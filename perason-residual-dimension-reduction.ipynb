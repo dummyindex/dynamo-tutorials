{
 "cells": [
  {
   "cell_type": "markdown",
   "metadata": {},
   "source": [
    "# Test of pearson residula on zebrafish data"
   ]
  },
  {
   "cell_type": "markdown",
   "metadata": {},
   "source": [
    "Import the package and silence some warning information (mostly `is_categorical_dtype` warning from anndata)"
   ]
  },
  {
   "cell_type": "code",
   "execution_count": 20,
   "metadata": {},
   "outputs": [],
   "source": [
    "import warnings\n",
    "\n",
    "warnings.filterwarnings(\"ignore\")\n",
    "\n",
    "import dynamo as dyn\n",
    "from dynamo.configuration import DKM\n",
    "import numpy as np\n"
   ]
  },
  {
   "cell_type": "markdown",
   "metadata": {},
   "source": [
    "this is like R's sessionInfo() which helps you to debug version related bugs if any. "
   ]
  },
  {
   "cell_type": "markdown",
   "metadata": {},
   "source": [
    "## Load data \n",
    "\n",
    "Dynamo comes with a few builtin sample datasets so you can familiarize with dynamo before analyzing your own dataset.\n",
    "You can read your own data via `read`, `read_loom`, `read_h5ad`, `read_h5` (powered by the [anndata](https://anndata.readthedocs.io/en/latest/anndata.AnnData.html) package) or load_NASC_seq, etc. Here I just load the zebrafish sample data that comes with dynamo. This dataset has 4181 cells and 16940 genes. Its `.obs` attribute also included `condition`, `batch` information from the original study (you should also store those information to your `.obs` attribute which is essentially a Pandas Dataframe, see more at [anndata](https://anndata.readthedocs.io/en/latest/)). `Cluster`, `Cell_type`, umap coordinates that was originally analyzed with [Monocle 3](https://cole-trapnell-lab.github.io/monocle3/) are also provided. "
   ]
  },
  {
   "cell_type": "code",
   "execution_count": 21,
   "metadata": {},
   "outputs": [
    {
     "name": "stderr",
     "output_type": "stream",
     "text": [
      "|-----> Downloading data to ./data/zebrafish.h5ad\n"
     ]
    }
   ],
   "source": [
    "adata = dyn.sample_data.zebrafish()\n"
   ]
  },
  {
   "cell_type": "code",
   "execution_count": 22,
   "metadata": {},
   "outputs": [],
   "source": [
    "import scipy.sparse\n",
    "from scipy import sparse\n",
    "import anndata\n",
    "\n",
    "\n",
    "def remove_rare_genes(counts, genes, minimum_detected_cells_per_gene):\n",
    "\n",
    "    if type(counts) in [sparse.csr.csr_matrix, sparse.csc.csc_matrix]:\n",
    "\n",
    "        # remove zero genes\n",
    "        nonzero_genes_idx = np.array(counts.sum(axis=0)).flatten() > 0\n",
    "\n",
    "        counts = counts[:, nonzero_genes_idx]\n",
    "        genes = genes[nonzero_genes_idx]\n",
    "\n",
    "        # count nonzero entries per gene\n",
    "        nonzero_coords = counts.nonzero()\n",
    "        n_nonzero = counts.count_nonzero()\n",
    "        is_nonzero = sparse.csc_matrix((np.ones(n_nonzero), nonzero_coords))\n",
    "        detected_cells_per_gene = np.array(is_nonzero.sum(axis=0)).flatten()\n",
    "\n",
    "        keep_genes = detected_cells_per_gene >= minimum_detected_cells_per_gene\n",
    "        counts_kept = counts[:, keep_genes]\n",
    "        genes_kept = genes[keep_genes]\n",
    "\n",
    "        print(\n",
    "            \"Of\",\n",
    "            len(detected_cells_per_gene),\n",
    "            \"total genes, returning\",\n",
    "            sum(keep_genes),\n",
    "            \"genes that are detected in %u or more cells.\"\n",
    "            % (minimum_detected_cells_per_gene),\n",
    "        )\n",
    "        print(\"Output shape:\", counts_kept.shape)\n",
    "\n",
    "        return counts_kept, np.array(genes_kept)\n",
    "\n",
    "    else:\n",
    "\n",
    "        # remove zero genes\n",
    "        nonzero_genes_idx = np.sum(counts, axis=0) > 0\n",
    "        counts = counts[:, nonzero_genes_idx]\n",
    "        genes = genes[nonzero_genes_idx]\n",
    "\n",
    "        # remove genes that are detected in less then n cells\n",
    "        nonzero = counts > 0\n",
    "        cells_per_gene = np.sum(nonzero, axis=0)\n",
    "        include_genes = cells_per_gene >= minimum_detected_cells_per_gene\n",
    "        counts_kept = counts[:, include_genes]\n",
    "        genes_kept = genes[include_genes]\n",
    "        print(\n",
    "            \"Of\",\n",
    "            len(cells_per_gene),\n",
    "            \"total genes, returning\",\n",
    "            sum(include_genes),\n",
    "            \"genes that are detected in %u or more cells.\"\n",
    "            % (minimum_detected_cells_per_gene),\n",
    "        )\n",
    "        print(\"Output shape:\", counts_kept.shape)\n",
    "        return counts_kept, genes_kept\n",
    "\n",
    "\n",
    "def preprocess_adata_pearson_paper(adata):\n",
    "    counts, genes, cells = adata.X, np.array(adata.var_names), adata.obs_names\n",
    "\n",
    "    counts = counts.toarray()\n",
    "\n",
    "    # remove low depth cells\n",
    "    depths = np.array(np.sum(counts, axis=1)).flatten()\n",
    "    minimum_depth = 500\n",
    "    cells = cells[depths > minimum_depth]\n",
    "    counts = counts[depths > minimum_depth, :]\n",
    "    print(\n",
    "        \"Of\",\n",
    "        len(depths),\n",
    "        \"cells, returning\",\n",
    "        sum(depths > minimum_depth),\n",
    "        \"cells that have a depth larger than\",\n",
    "        minimum_depth,\n",
    "    )\n",
    "    print(\"New shape:\", counts.shape)\n",
    "\n",
    "    counts, genes = remove_rare_genes(counts, genes, minimum_detected_cells_per_gene=5)\n",
    "    counts = sparse.csr_matrix(counts)\n",
    "    res = anndata.AnnData(X=counts)\n",
    "    return res\n",
    "\n"
   ]
  },
  {
   "cell_type": "code",
   "execution_count": 23,
   "metadata": {},
   "outputs": [],
   "source": [
    "import statsmodels.api as sm\n",
    "from datetime import datetime\n",
    "\n",
    "\n",
    "def compute_marginals(counts):\n",
    "    \"\"\"compute depths per cell (ns) and relative expression fractions per gene (ps)\"\"\"\n",
    "    ns = np.sum(counts, axis=1)\n",
    "    ps = np.sum(counts, axis=0)\n",
    "    ps = ps / np.sum(ps)\n",
    "    return np.squeeze(np.array(ns)), np.squeeze(np.array(ps))\n",
    "\n",
    "\n",
    "def monitor_progress(gene_id, n_genes, print_time_every=1000, print_dot_every=25):\n",
    "    if np.mod(gene_id, print_time_every) == 0:\n",
    "        print(\"\")\n",
    "        print(\n",
    "            \"##\",\n",
    "            datetime.now().time(),\n",
    "            \"##\",\n",
    "            gene_id,\n",
    "            \"of\",\n",
    "            n_genes,\n",
    "            \"genes fit\",\n",
    "            end=\"\",\n",
    "        )\n",
    "    if np.mod(gene_id, print_dot_every) == 0:\n",
    "        print(\".\", end=\"\")\n",
    "\n",
    "\n",
    "def fit_offsetmodel_w_statsmodel(counts, depths, name):\n",
    "    \"\"\"use statsmodel to fit offsetmodel (Eq. 3) and obtain beta0 (intercept) estimates, saving results to file\"\"\"\n",
    "    n_cells = counts.shape[0]\n",
    "    n_genes = counts.shape[1]\n",
    "\n",
    "    ##np.ones: will fit intercept beta0\n",
    "    X = np.ones((n_cells, 1))\n",
    "    ##log(depths): will be used as offsets\n",
    "    logdepths = np.log(depths)\n",
    "\n",
    "    beta0 = np.zeros(n_genes) * np.nan\n",
    "    for gene_id in range(n_genes):\n",
    "        offsetmodel = sm.Poisson(counts[:, gene_id], X, offset=logdepths)\n",
    "        result = offsetmodel.fit(disp=0)\n",
    "        beta0[gene_id] = result.params\n",
    "\n",
    "        monitor_progress(gene_id, n_genes)\n",
    "\n",
    "    res = dict(beta0=beta0)\n",
    "    # np.save('fit_results/fit_offsetmodel_w_statsmodel_%s' % (name),res)\n"
   ]
  },
  {
   "cell_type": "code",
   "execution_count": 24,
   "metadata": {},
   "outputs": [],
   "source": [
    "adata = preprocess_adata_pearson_paper(adata)\n"
   ]
  },
  {
   "cell_type": "code",
   "execution_count": 25,
   "metadata": {},
   "outputs": [],
   "source": [
    "import scanpy as sc\n",
    "\n",
    "\n",
    "def pearson_residuals(counts, theta, clipping=True):\n",
    "    \"\"\"Computes analytical residuals for NB model with a fixed theta, clipping outlier residuals to sqrt(N)\"\"\"\n",
    "    counts_sum0 = np.sum(counts, axis=0, keepdims=True)\n",
    "    counts_sum1 = np.sum(counts, axis=1, keepdims=True)\n",
    "    counts_sum = np.sum(counts)\n",
    "\n",
    "    # get residuals\n",
    "    mu = counts_sum1 @ counts_sum0 / counts_sum\n",
    "    z = (counts - mu) / np.sqrt(mu + mu ** 2 / theta)\n",
    "\n",
    "    # clip to sqrt(n)\n",
    "    if clipping:\n",
    "        n = counts.shape[0]\n",
    "        z[z > np.sqrt(n)] = np.sqrt(n)\n",
    "        z[z < -np.sqrt(n)] = -np.sqrt(n)\n",
    "\n",
    "    return z\n",
    "\n",
    "\n",
    "def pearson_residuals_PCA(adata, theta=100, n_comps=50):\n",
    "    adata = adata.copy()\n",
    "    counts = adata.X.toarray()\n",
    "    return sc.pp.pca(pearson_residuals(counts, theta), random_state=42, n_comps=n_comps)\n",
    "\n"
   ]
  },
  {
   "cell_type": "code",
   "execution_count": 26,
   "metadata": {},
   "outputs": [
    {
     "ename": "ValueError",
     "evalue": "Input contains NaN, infinity or a value too large for dtype('float32').",
     "output_type": "error",
     "traceback": [
      "\u001b[1;31m---------------------------------------------------------------------------\u001b[0m",
      "\u001b[1;31mValueError\u001b[0m                                Traceback (most recent call last)",
      "\u001b[1;32m~\\AppData\\Local\\Temp/ipykernel_24596/3448834460.py\u001b[0m in \u001b[0;36m<module>\u001b[1;34m\u001b[0m\n\u001b[1;32m----> 1\u001b[1;33m \u001b[0mpca_reduced_counts\u001b[0m \u001b[1;33m=\u001b[0m \u001b[0mpearson_residuals_PCA\u001b[0m\u001b[1;33m(\u001b[0m\u001b[0madata\u001b[0m\u001b[1;33m)\u001b[0m\u001b[1;33m\u001b[0m\u001b[1;33m\u001b[0m\u001b[0m\n\u001b[0m\u001b[0;32m      2\u001b[0m \u001b[0madata\u001b[0m\u001b[1;33m.\u001b[0m\u001b[0mobsm\u001b[0m\u001b[1;33m[\u001b[0m\u001b[1;34m\"X_pca_pearson\"\u001b[0m\u001b[1;33m]\u001b[0m \u001b[1;33m=\u001b[0m \u001b[0mpca_reduced_counts\u001b[0m\u001b[1;33m\u001b[0m\u001b[1;33m\u001b[0m\u001b[0m\n",
      "\u001b[1;32m~\\AppData\\Local\\Temp/ipykernel_24596/359164670.py\u001b[0m in \u001b[0;36mpearson_residuals_PCA\u001b[1;34m(adata, theta, n_comps)\u001b[0m\n\u001b[0;32m     24\u001b[0m     \u001b[0madata\u001b[0m \u001b[1;33m=\u001b[0m \u001b[0madata\u001b[0m\u001b[1;33m.\u001b[0m\u001b[0mcopy\u001b[0m\u001b[1;33m(\u001b[0m\u001b[1;33m)\u001b[0m\u001b[1;33m\u001b[0m\u001b[1;33m\u001b[0m\u001b[0m\n\u001b[0;32m     25\u001b[0m     \u001b[0mcounts\u001b[0m \u001b[1;33m=\u001b[0m \u001b[0madata\u001b[0m\u001b[1;33m.\u001b[0m\u001b[0mX\u001b[0m\u001b[1;33m.\u001b[0m\u001b[0mtoarray\u001b[0m\u001b[1;33m(\u001b[0m\u001b[1;33m)\u001b[0m\u001b[1;33m\u001b[0m\u001b[1;33m\u001b[0m\u001b[0m\n\u001b[1;32m---> 26\u001b[1;33m     \u001b[1;32mreturn\u001b[0m \u001b[0msc\u001b[0m\u001b[1;33m.\u001b[0m\u001b[0mpp\u001b[0m\u001b[1;33m.\u001b[0m\u001b[0mpca\u001b[0m\u001b[1;33m(\u001b[0m\u001b[0mpearson_residuals\u001b[0m\u001b[1;33m(\u001b[0m\u001b[0mcounts\u001b[0m\u001b[1;33m,\u001b[0m \u001b[0mtheta\u001b[0m\u001b[1;33m)\u001b[0m\u001b[1;33m,\u001b[0m \u001b[0mrandom_state\u001b[0m\u001b[1;33m=\u001b[0m\u001b[1;36m42\u001b[0m\u001b[1;33m,\u001b[0m \u001b[0mn_comps\u001b[0m\u001b[1;33m=\u001b[0m\u001b[0mn_comps\u001b[0m\u001b[1;33m)\u001b[0m\u001b[1;33m\u001b[0m\u001b[1;33m\u001b[0m\u001b[0m\n\u001b[0m\u001b[0;32m     27\u001b[0m \u001b[1;33m\u001b[0m\u001b[0m\n",
      "\u001b[1;32m~\\Anaconda3\\envs\\dynamo-dev\\lib\\site-packages\\scanpy\\preprocessing\\_pca.py\u001b[0m in \u001b[0;36mpca\u001b[1;34m(data, n_comps, zero_center, svd_solver, random_state, return_info, use_highly_variable, dtype, copy, chunked, chunk_size)\u001b[0m\n\u001b[0;32m    186\u001b[0m             \u001b[0mn_components\u001b[0m\u001b[1;33m=\u001b[0m\u001b[0mn_comps\u001b[0m\u001b[1;33m,\u001b[0m \u001b[0msvd_solver\u001b[0m\u001b[1;33m=\u001b[0m\u001b[0msvd_solver\u001b[0m\u001b[1;33m,\u001b[0m \u001b[0mrandom_state\u001b[0m\u001b[1;33m=\u001b[0m\u001b[0mrandom_state\u001b[0m\u001b[1;33m\u001b[0m\u001b[1;33m\u001b[0m\u001b[0m\n\u001b[0;32m    187\u001b[0m         )\n\u001b[1;32m--> 188\u001b[1;33m         \u001b[0mX_pca\u001b[0m \u001b[1;33m=\u001b[0m \u001b[0mpca_\u001b[0m\u001b[1;33m.\u001b[0m\u001b[0mfit_transform\u001b[0m\u001b[1;33m(\u001b[0m\u001b[0mX\u001b[0m\u001b[1;33m)\u001b[0m\u001b[1;33m\u001b[0m\u001b[1;33m\u001b[0m\u001b[0m\n\u001b[0m\u001b[0;32m    189\u001b[0m     \u001b[1;32melif\u001b[0m \u001b[0missparse\u001b[0m\u001b[1;33m(\u001b[0m\u001b[0mX\u001b[0m\u001b[1;33m)\u001b[0m \u001b[1;32mand\u001b[0m \u001b[0mzero_center\u001b[0m\u001b[1;33m:\u001b[0m\u001b[1;33m\u001b[0m\u001b[1;33m\u001b[0m\u001b[0m\n\u001b[0;32m    190\u001b[0m         \u001b[1;32mfrom\u001b[0m \u001b[0msklearn\u001b[0m\u001b[1;33m.\u001b[0m\u001b[0mdecomposition\u001b[0m \u001b[1;32mimport\u001b[0m \u001b[0mPCA\u001b[0m\u001b[1;33m\u001b[0m\u001b[1;33m\u001b[0m\u001b[0m\n",
      "\u001b[1;32m~\\Anaconda3\\envs\\dynamo-dev\\lib\\site-packages\\sklearn\\decomposition\\_pca.py\u001b[0m in \u001b[0;36mfit_transform\u001b[1;34m(self, X, y)\u001b[0m\n\u001b[0;32m    381\u001b[0m         \u001b[0mC\u001b[0m\u001b[1;33m-\u001b[0m\u001b[0mordered\u001b[0m \u001b[0marray\u001b[0m\u001b[1;33m,\u001b[0m \u001b[0muse\u001b[0m \u001b[1;34m'np.ascontiguousarray'\u001b[0m\u001b[1;33m.\u001b[0m\u001b[1;33m\u001b[0m\u001b[1;33m\u001b[0m\u001b[0m\n\u001b[0;32m    382\u001b[0m         \"\"\"\n\u001b[1;32m--> 383\u001b[1;33m         \u001b[0mU\u001b[0m\u001b[1;33m,\u001b[0m \u001b[0mS\u001b[0m\u001b[1;33m,\u001b[0m \u001b[0mVt\u001b[0m \u001b[1;33m=\u001b[0m \u001b[0mself\u001b[0m\u001b[1;33m.\u001b[0m\u001b[0m_fit\u001b[0m\u001b[1;33m(\u001b[0m\u001b[0mX\u001b[0m\u001b[1;33m)\u001b[0m\u001b[1;33m\u001b[0m\u001b[1;33m\u001b[0m\u001b[0m\n\u001b[0m\u001b[0;32m    384\u001b[0m         \u001b[0mU\u001b[0m \u001b[1;33m=\u001b[0m \u001b[0mU\u001b[0m\u001b[1;33m[\u001b[0m\u001b[1;33m:\u001b[0m\u001b[1;33m,\u001b[0m \u001b[1;33m:\u001b[0m\u001b[0mself\u001b[0m\u001b[1;33m.\u001b[0m\u001b[0mn_components_\u001b[0m\u001b[1;33m]\u001b[0m\u001b[1;33m\u001b[0m\u001b[1;33m\u001b[0m\u001b[0m\n\u001b[0;32m    385\u001b[0m \u001b[1;33m\u001b[0m\u001b[0m\n",
      "\u001b[1;32m~\\Anaconda3\\envs\\dynamo-dev\\lib\\site-packages\\sklearn\\decomposition\\_pca.py\u001b[0m in \u001b[0;36m_fit\u001b[1;34m(self, X)\u001b[0m\n\u001b[0;32m    402\u001b[0m                             'TruncatedSVD for a possible alternative.')\n\u001b[0;32m    403\u001b[0m \u001b[1;33m\u001b[0m\u001b[0m\n\u001b[1;32m--> 404\u001b[1;33m         X = self._validate_data(X, dtype=[np.float64, np.float32],\n\u001b[0m\u001b[0;32m    405\u001b[0m                                 ensure_2d=True, copy=self.copy)\n\u001b[0;32m    406\u001b[0m \u001b[1;33m\u001b[0m\u001b[0m\n",
      "\u001b[1;32m~\\Anaconda3\\envs\\dynamo-dev\\lib\\site-packages\\sklearn\\base.py\u001b[0m in \u001b[0;36m_validate_data\u001b[1;34m(self, X, y, reset, validate_separately, **check_params)\u001b[0m\n\u001b[0;32m    419\u001b[0m             \u001b[0mout\u001b[0m \u001b[1;33m=\u001b[0m \u001b[0mX\u001b[0m\u001b[1;33m\u001b[0m\u001b[1;33m\u001b[0m\u001b[0m\n\u001b[0;32m    420\u001b[0m         \u001b[1;32melif\u001b[0m \u001b[0misinstance\u001b[0m\u001b[1;33m(\u001b[0m\u001b[0my\u001b[0m\u001b[1;33m,\u001b[0m \u001b[0mstr\u001b[0m\u001b[1;33m)\u001b[0m \u001b[1;32mand\u001b[0m \u001b[0my\u001b[0m \u001b[1;33m==\u001b[0m \u001b[1;34m'no_validation'\u001b[0m\u001b[1;33m:\u001b[0m\u001b[1;33m\u001b[0m\u001b[1;33m\u001b[0m\u001b[0m\n\u001b[1;32m--> 421\u001b[1;33m             \u001b[0mX\u001b[0m \u001b[1;33m=\u001b[0m \u001b[0mcheck_array\u001b[0m\u001b[1;33m(\u001b[0m\u001b[0mX\u001b[0m\u001b[1;33m,\u001b[0m \u001b[1;33m**\u001b[0m\u001b[0mcheck_params\u001b[0m\u001b[1;33m)\u001b[0m\u001b[1;33m\u001b[0m\u001b[1;33m\u001b[0m\u001b[0m\n\u001b[0m\u001b[0;32m    422\u001b[0m             \u001b[0mout\u001b[0m \u001b[1;33m=\u001b[0m \u001b[0mX\u001b[0m\u001b[1;33m\u001b[0m\u001b[1;33m\u001b[0m\u001b[0m\n\u001b[0;32m    423\u001b[0m         \u001b[1;32melse\u001b[0m\u001b[1;33m:\u001b[0m\u001b[1;33m\u001b[0m\u001b[1;33m\u001b[0m\u001b[0m\n",
      "\u001b[1;32m~\\Anaconda3\\envs\\dynamo-dev\\lib\\site-packages\\sklearn\\utils\\validation.py\u001b[0m in \u001b[0;36minner_f\u001b[1;34m(*args, **kwargs)\u001b[0m\n\u001b[0;32m     61\u001b[0m             \u001b[0mextra_args\u001b[0m \u001b[1;33m=\u001b[0m \u001b[0mlen\u001b[0m\u001b[1;33m(\u001b[0m\u001b[0margs\u001b[0m\u001b[1;33m)\u001b[0m \u001b[1;33m-\u001b[0m \u001b[0mlen\u001b[0m\u001b[1;33m(\u001b[0m\u001b[0mall_args\u001b[0m\u001b[1;33m)\u001b[0m\u001b[1;33m\u001b[0m\u001b[1;33m\u001b[0m\u001b[0m\n\u001b[0;32m     62\u001b[0m             \u001b[1;32mif\u001b[0m \u001b[0mextra_args\u001b[0m \u001b[1;33m<=\u001b[0m \u001b[1;36m0\u001b[0m\u001b[1;33m:\u001b[0m\u001b[1;33m\u001b[0m\u001b[1;33m\u001b[0m\u001b[0m\n\u001b[1;32m---> 63\u001b[1;33m                 \u001b[1;32mreturn\u001b[0m \u001b[0mf\u001b[0m\u001b[1;33m(\u001b[0m\u001b[1;33m*\u001b[0m\u001b[0margs\u001b[0m\u001b[1;33m,\u001b[0m \u001b[1;33m**\u001b[0m\u001b[0mkwargs\u001b[0m\u001b[1;33m)\u001b[0m\u001b[1;33m\u001b[0m\u001b[1;33m\u001b[0m\u001b[0m\n\u001b[0m\u001b[0;32m     64\u001b[0m \u001b[1;33m\u001b[0m\u001b[0m\n\u001b[0;32m     65\u001b[0m             \u001b[1;31m# extra_args > 0\u001b[0m\u001b[1;33m\u001b[0m\u001b[1;33m\u001b[0m\u001b[1;33m\u001b[0m\u001b[0m\n",
      "\u001b[1;32m~\\Anaconda3\\envs\\dynamo-dev\\lib\\site-packages\\sklearn\\utils\\validation.py\u001b[0m in \u001b[0;36mcheck_array\u001b[1;34m(array, accept_sparse, accept_large_sparse, dtype, order, copy, force_all_finite, ensure_2d, allow_nd, ensure_min_samples, ensure_min_features, estimator)\u001b[0m\n\u001b[0;32m    718\u001b[0m \u001b[1;33m\u001b[0m\u001b[0m\n\u001b[0;32m    719\u001b[0m         \u001b[1;32mif\u001b[0m \u001b[0mforce_all_finite\u001b[0m\u001b[1;33m:\u001b[0m\u001b[1;33m\u001b[0m\u001b[1;33m\u001b[0m\u001b[0m\n\u001b[1;32m--> 720\u001b[1;33m             _assert_all_finite(array,\n\u001b[0m\u001b[0;32m    721\u001b[0m                                allow_nan=force_all_finite == 'allow-nan')\n\u001b[0;32m    722\u001b[0m \u001b[1;33m\u001b[0m\u001b[0m\n",
      "\u001b[1;32m~\\Anaconda3\\envs\\dynamo-dev\\lib\\site-packages\\sklearn\\utils\\validation.py\u001b[0m in \u001b[0;36m_assert_all_finite\u001b[1;34m(X, allow_nan, msg_dtype)\u001b[0m\n\u001b[0;32m    101\u001b[0m                 not allow_nan and not np.isfinite(X).all()):\n\u001b[0;32m    102\u001b[0m             \u001b[0mtype_err\u001b[0m \u001b[1;33m=\u001b[0m \u001b[1;34m'infinity'\u001b[0m \u001b[1;32mif\u001b[0m \u001b[0mallow_nan\u001b[0m \u001b[1;32melse\u001b[0m \u001b[1;34m'NaN, infinity'\u001b[0m\u001b[1;33m\u001b[0m\u001b[1;33m\u001b[0m\u001b[0m\n\u001b[1;32m--> 103\u001b[1;33m             raise ValueError(\n\u001b[0m\u001b[0;32m    104\u001b[0m                     \u001b[0mmsg_err\u001b[0m\u001b[1;33m.\u001b[0m\u001b[0mformat\u001b[0m\u001b[1;33m\u001b[0m\u001b[1;33m\u001b[0m\u001b[0m\n\u001b[0;32m    105\u001b[0m                     (type_err,\n",
      "\u001b[1;31mValueError\u001b[0m: Input contains NaN, infinity or a value too large for dtype('float32')."
     ]
    }
   ],
   "source": [
    "pca_reduced_counts = pearson_residuals_PCA(adata)\n",
    "adata.obsm[\"X_pca_pearson\"] = pca_reduced_counts\n"
   ]
  },
  {
   "cell_type": "code",
   "execution_count": null,
   "metadata": {},
   "outputs": [
    {
     "data": {
      "text/plain": [
       "array([[-15.597142  ,  -6.3667483 ,  -2.144211  , ...,   0.6135125 ,\n",
       "         -0.42440122,  -0.07755979],\n",
       "       [-13.199008  ,  -9.480839  ,  -6.4491725 , ...,   1.1760699 ,\n",
       "          0.28251767,  -0.39280787],\n",
       "       [-25.472523  ,   1.0001048 ,  27.995993  , ...,  -0.5333733 ,\n",
       "          2.693091  ,   0.36366162],\n",
       "       ...,\n",
       "       [ 10.02985   , -14.028355  , -12.073074  , ...,  -1.8847305 ,\n",
       "         -2.2358758 ,  -3.1401749 ],\n",
       "       [  8.808733  , -15.998152  , -11.24421   , ...,   1.3771492 ,\n",
       "         -4.614617  ,   3.7940211 ],\n",
       "       [ -5.928084  , -24.506561  , -24.752354  , ...,   2.0322068 ,\n",
       "          6.9996734 ,  -1.9071083 ]], dtype=float32)"
      ]
     },
     "execution_count": 12,
     "metadata": {},
     "output_type": "execute_result"
    }
   ],
   "source": [
    "adata.obsm[\"X_pca_pearson\"]"
   ]
  },
  {
   "cell_type": "code",
   "execution_count": null,
   "metadata": {},
   "outputs": [
    {
     "ename": "KeyError",
     "evalue": "'Could not find key Cell_type in .var_names or .obs.columns.'",
     "output_type": "error",
     "traceback": [
      "\u001b[1;31m---------------------------------------------------------------------------\u001b[0m",
      "\u001b[1;31mKeyError\u001b[0m                                  Traceback (most recent call last)",
      "\u001b[1;32m~\\AppData\\Local\\Temp/ipykernel_24596/2132418873.py\u001b[0m in \u001b[0;36m<module>\u001b[1;34m\u001b[0m\n\u001b[1;32m----> 1\u001b[1;33m \u001b[0msc\u001b[0m\u001b[1;33m.\u001b[0m\u001b[0mpl\u001b[0m\u001b[1;33m.\u001b[0m\u001b[0membedding\u001b[0m\u001b[1;33m(\u001b[0m\u001b[0madata\u001b[0m\u001b[1;33m,\u001b[0m \u001b[0mbasis\u001b[0m\u001b[1;33m=\u001b[0m\u001b[1;34m\"X_pca_pearson\"\u001b[0m\u001b[1;33m,\u001b[0m \u001b[0mcolor\u001b[0m\u001b[1;33m=\u001b[0m\u001b[1;33m[\u001b[0m\u001b[1;34m\"Cell_type\"\u001b[0m\u001b[1;33m]\u001b[0m\u001b[1;33m)\u001b[0m\u001b[1;33m\u001b[0m\u001b[1;33m\u001b[0m\u001b[0m\n\u001b[0m",
      "\u001b[1;32m~\\Anaconda3\\envs\\dynamo-dev\\lib\\site-packages\\scanpy\\plotting\\_tools\\scatterplots.py\u001b[0m in \u001b[0;36membedding\u001b[1;34m(adata, basis, color, gene_symbols, use_raw, sort_order, edges, edges_width, edges_color, neighbors_key, arrows, arrows_kwds, groups, components, layer, projection, scale_factor, color_map, cmap, palette, na_color, na_in_legend, size, frameon, legend_fontsize, legend_fontweight, legend_loc, legend_fontoutline, vmax, vmin, vcenter, norm, add_outline, outline_width, outline_color, ncols, hspace, wspace, title, show, save, ax, return_fig, **kwargs)\u001b[0m\n\u001b[0;32m    242\u001b[0m         \u001b[0mitertools\u001b[0m\u001b[1;33m.\u001b[0m\u001b[0mproduct\u001b[0m\u001b[1;33m(\u001b[0m\u001b[0mcolor\u001b[0m\u001b[1;33m,\u001b[0m \u001b[0midx_components\u001b[0m\u001b[1;33m)\u001b[0m\u001b[1;33m\u001b[0m\u001b[1;33m\u001b[0m\u001b[0m\n\u001b[0;32m    243\u001b[0m     ):\n\u001b[1;32m--> 244\u001b[1;33m         color_source_vector = _get_color_source_vector(\n\u001b[0m\u001b[0;32m    245\u001b[0m             \u001b[0madata\u001b[0m\u001b[1;33m,\u001b[0m\u001b[1;33m\u001b[0m\u001b[1;33m\u001b[0m\u001b[0m\n\u001b[0;32m    246\u001b[0m             \u001b[0mvalue_to_plot\u001b[0m\u001b[1;33m,\u001b[0m\u001b[1;33m\u001b[0m\u001b[1;33m\u001b[0m\u001b[0m\n",
      "\u001b[1;32m~\\Anaconda3\\envs\\dynamo-dev\\lib\\site-packages\\scanpy\\plotting\\_tools\\scatterplots.py\u001b[0m in \u001b[0;36m_get_color_source_vector\u001b[1;34m(adata, value_to_plot, use_raw, gene_symbols, layer, groups)\u001b[0m\n\u001b[0;32m   1223\u001b[0m         \u001b[0mvalues\u001b[0m \u001b[1;33m=\u001b[0m \u001b[0madata\u001b[0m\u001b[1;33m.\u001b[0m\u001b[0mraw\u001b[0m\u001b[1;33m.\u001b[0m\u001b[0mobs_vector\u001b[0m\u001b[1;33m(\u001b[0m\u001b[0mvalue_to_plot\u001b[0m\u001b[1;33m)\u001b[0m\u001b[1;33m\u001b[0m\u001b[1;33m\u001b[0m\u001b[0m\n\u001b[0;32m   1224\u001b[0m     \u001b[1;32melse\u001b[0m\u001b[1;33m:\u001b[0m\u001b[1;33m\u001b[0m\u001b[1;33m\u001b[0m\u001b[0m\n\u001b[1;32m-> 1225\u001b[1;33m         \u001b[0mvalues\u001b[0m \u001b[1;33m=\u001b[0m \u001b[0madata\u001b[0m\u001b[1;33m.\u001b[0m\u001b[0mobs_vector\u001b[0m\u001b[1;33m(\u001b[0m\u001b[0mvalue_to_plot\u001b[0m\u001b[1;33m,\u001b[0m \u001b[0mlayer\u001b[0m\u001b[1;33m=\u001b[0m\u001b[0mlayer\u001b[0m\u001b[1;33m)\u001b[0m\u001b[1;33m\u001b[0m\u001b[1;33m\u001b[0m\u001b[0m\n\u001b[0m\u001b[0;32m   1226\u001b[0m     \u001b[1;32mif\u001b[0m \u001b[0mgroups\u001b[0m \u001b[1;32mand\u001b[0m \u001b[0mis_categorical_dtype\u001b[0m\u001b[1;33m(\u001b[0m\u001b[0mvalues\u001b[0m\u001b[1;33m)\u001b[0m\u001b[1;33m:\u001b[0m\u001b[1;33m\u001b[0m\u001b[1;33m\u001b[0m\u001b[0m\n\u001b[0;32m   1227\u001b[0m         \u001b[0mvalues\u001b[0m \u001b[1;33m=\u001b[0m \u001b[0mvalues\u001b[0m\u001b[1;33m.\u001b[0m\u001b[0mreplace\u001b[0m\u001b[1;33m(\u001b[0m\u001b[0mvalues\u001b[0m\u001b[1;33m.\u001b[0m\u001b[0mcategories\u001b[0m\u001b[1;33m.\u001b[0m\u001b[0mdifference\u001b[0m\u001b[1;33m(\u001b[0m\u001b[0mgroups\u001b[0m\u001b[1;33m)\u001b[0m\u001b[1;33m,\u001b[0m \u001b[0mnp\u001b[0m\u001b[1;33m.\u001b[0m\u001b[0mnan\u001b[0m\u001b[1;33m)\u001b[0m\u001b[1;33m\u001b[0m\u001b[1;33m\u001b[0m\u001b[0m\n",
      "\u001b[1;32m~\\Anaconda3\\envs\\dynamo-dev\\lib\\site-packages\\anndata\\_core\\anndata.py\u001b[0m in \u001b[0;36mobs_vector\u001b[1;34m(self, k, layer)\u001b[0m\n\u001b[0;32m   1362\u001b[0m                 )\n\u001b[0;32m   1363\u001b[0m                 \u001b[0mlayer\u001b[0m \u001b[1;33m=\u001b[0m \u001b[1;32mNone\u001b[0m\u001b[1;33m\u001b[0m\u001b[1;33m\u001b[0m\u001b[0m\n\u001b[1;32m-> 1364\u001b[1;33m         \u001b[1;32mreturn\u001b[0m \u001b[0mget_vector\u001b[0m\u001b[1;33m(\u001b[0m\u001b[0mself\u001b[0m\u001b[1;33m,\u001b[0m \u001b[0mk\u001b[0m\u001b[1;33m,\u001b[0m \u001b[1;34m\"obs\"\u001b[0m\u001b[1;33m,\u001b[0m \u001b[1;34m\"var\"\u001b[0m\u001b[1;33m,\u001b[0m \u001b[0mlayer\u001b[0m\u001b[1;33m=\u001b[0m\u001b[0mlayer\u001b[0m\u001b[1;33m)\u001b[0m\u001b[1;33m\u001b[0m\u001b[1;33m\u001b[0m\u001b[0m\n\u001b[0m\u001b[0;32m   1365\u001b[0m \u001b[1;33m\u001b[0m\u001b[0m\n\u001b[0;32m   1366\u001b[0m     \u001b[1;32mdef\u001b[0m \u001b[0mvar_vector\u001b[0m\u001b[1;33m(\u001b[0m\u001b[0mself\u001b[0m\u001b[1;33m,\u001b[0m \u001b[0mk\u001b[0m\u001b[1;33m,\u001b[0m \u001b[1;33m*\u001b[0m\u001b[1;33m,\u001b[0m \u001b[0mlayer\u001b[0m\u001b[1;33m:\u001b[0m \u001b[0mOptional\u001b[0m\u001b[1;33m[\u001b[0m\u001b[0mstr\u001b[0m\u001b[1;33m]\u001b[0m \u001b[1;33m=\u001b[0m \u001b[1;32mNone\u001b[0m\u001b[1;33m)\u001b[0m \u001b[1;33m->\u001b[0m \u001b[0mnp\u001b[0m\u001b[1;33m.\u001b[0m\u001b[0mndarray\u001b[0m\u001b[1;33m:\u001b[0m\u001b[1;33m\u001b[0m\u001b[1;33m\u001b[0m\u001b[0m\n",
      "\u001b[1;32m~\\Anaconda3\\envs\\dynamo-dev\\lib\\site-packages\\anndata\\_core\\index.py\u001b[0m in \u001b[0;36mget_vector\u001b[1;34m(adata, k, coldim, idxdim, layer)\u001b[0m\n\u001b[0;32m    160\u001b[0m         )\n\u001b[0;32m    161\u001b[0m     \u001b[1;32melif\u001b[0m \u001b[1;33m(\u001b[0m\u001b[0min_col\u001b[0m \u001b[1;33m+\u001b[0m \u001b[0min_idx\u001b[0m\u001b[1;33m)\u001b[0m \u001b[1;33m==\u001b[0m \u001b[1;36m0\u001b[0m\u001b[1;33m:\u001b[0m\u001b[1;33m\u001b[0m\u001b[1;33m\u001b[0m\u001b[0m\n\u001b[1;32m--> 162\u001b[1;33m         raise KeyError(\n\u001b[0m\u001b[0;32m    163\u001b[0m             \u001b[1;34mf\"Could not find key {k} in .{idxdim}_names or .{coldim}.columns.\"\u001b[0m\u001b[1;33m\u001b[0m\u001b[1;33m\u001b[0m\u001b[0m\n\u001b[0;32m    164\u001b[0m         )\n",
      "\u001b[1;31mKeyError\u001b[0m: 'Could not find key Cell_type in .var_names or .obs.columns.'"
     ]
    },
    {
     "data": {
      "image/png": "[encoded data removed]",
      "text/plain": [
       "<Figure size 432x288 with 1 Axes>"
      ]
     },
     "metadata": {
      "needs_background": "light"
     },
     "output_type": "display_data"
    }
   ],
   "source": [
    "sc.pl.embedding(adata, basis=\"X_pca_pearson\", color=[\"Cell_type\"])"
   ]
  },
  {
   "cell_type": "code",
   "execution_count": null,
   "metadata": {},
   "outputs": [],
   "source": []
  }
 ],
 "metadata": {
  "interpreter": {
   "hash": "c0f224693fc3f3b337b469fdaf7389d3b291b17a90dca45f35bda4453932d9dd"
  },
  "kernelspec": {
   "display_name": "Python 3.8.11 64-bit ('dynamo-dev': conda)",
   "name": "python3"
  },
  "language_info": {
   "codemirror_mode": {
    "name": "ipython",
    "version": 3
   },
   "file_extension": ".py",
   "mimetype": "text/x-python",
   "name": "python",
   "nbconvert_exporter": "python",
   "pygments_lexer": "ipython3",
   "version": "3.8.11"
  },
  "orig_nbformat": 4
 },
 "nbformat": 4,
 "nbformat_minor": 2
}
